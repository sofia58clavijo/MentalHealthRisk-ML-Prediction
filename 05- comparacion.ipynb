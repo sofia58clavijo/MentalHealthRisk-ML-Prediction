{
 "cells": [
  {
   "cell_type": "code",
   "execution_count": null,
   "id": "2156be0a",
   "metadata": {},
   "outputs": [],
   "source": [
    "import pandas as pd\n",
    "import numpy as np\n",
    "import joblib\n",
    "from sklearn.model_selection import train_test_split\n",
    "from sklearn.metrics import classification_report, confusion_matrix, cohen_kappa_score, jaccard_score\n",
    "import matplotlib.pyplot as plt\n",
    "import seaborn as sns"
   ]
  },
  {
   "cell_type": "code",
   "execution_count": 2,
   "id": "eccc6a61",
   "metadata": {},
   "outputs": [
    {
     "name": "stdout",
     "output_type": "stream",
     "text": [
      "--- Cargando datos y modelos para comparación ---\n",
      "Datos y modelos cargados exitosamente.\n"
     ]
    }
   ],
   "source": [
    "print(\"--- Cargando datos y modelos para comparación ---\")\n",
    "\n",
    "try:\n",
    "    # Cargar X e y procesados (después de imputación, antes de ColumnTransformer)\n",
    "    X_processed = pd.read_csv('./data/processed/X_processed.csv')\n",
    "    y_processed = pd.read_csv('./data/processed/y_processed.csv').values.ravel() # .ravel() para convertir a 1D\n",
    "\n",
    "    # Cargar el LabelEncoder de la variable objetivo\n",
    "    le_target = joblib.load('./models/label_encoder_target.joblib')\n",
    "    target_names = le_target.classes_ # Nombres de las clases para reportes\n",
    "\n",
    "    # Cargar los mejores modelos entrenados\n",
    "    best_rf_model = joblib.load('./models/best_random_forest_model.joblib')\n",
    "    best_lr_model = joblib.load('./models/best_logistic_regression_model.joblib')\n",
    "\n",
    "    print(\"Datos y modelos cargados exitosamente.\")\n",
    "except FileNotFoundError as e:\n",
    "    print(f\"Error al cargar archivos: {e}. Asegúrate de que los notebooks anteriores se hayan ejecutado.\")\n"
   ]
  },
  {
   "cell_type": "code",
   "execution_count": 3,
   "id": "2687b1b0",
   "metadata": {},
   "outputs": [
    {
     "name": "stdout",
     "output_type": "stream",
     "text": [
      "Conjunto de prueba creado: X_test shape (2000, 13), y_test shape (2000,)\n"
     ]
    }
   ],
   "source": [
    "X_train, X_test, y_train, y_test = train_test_split(\n",
    "    X_processed, y_processed, test_size=0.2, random_state=42, stratify=y_processed\n",
    ")\n",
    "print(f\"Conjunto de prueba creado: X_test shape {X_test.shape}, y_test shape {y_test.shape}\")\n"
   ]
  },
  {
   "cell_type": "code",
   "execution_count": 4,
   "id": "e16b3e58",
   "metadata": {},
   "outputs": [
    {
     "name": "stdout",
     "output_type": "stream",
     "text": [
      "\n",
      "--- Realizando predicciones en el conjunto de prueba ---\n",
      "Predicciones de Random Forest realizadas.\n",
      "Predicciones de Regresión Logística realizadas.\n"
     ]
    }
   ],
   "source": [
    "# --- 3. Realizar Predicciones ---\n",
    "print(\"\\n--- Realizando predicciones en el conjunto de prueba ---\")\n",
    "y_pred_rf = best_rf_model.predict(X_test)\n",
    "y_pred_lr = best_lr_model.predict(X_test)\n",
    "\n",
    "print(\"Predicciones de Random Forest realizadas.\")\n",
    "print(\"Predicciones de Regresión Logística realizadas.\")\n"
   ]
  },
  {
   "cell_type": "code",
   "execution_count": 5,
   "id": "0880411c",
   "metadata": {},
   "outputs": [
    {
     "name": "stdout",
     "output_type": "stream",
     "text": [
      "\n",
      "--- Evaluación Individual de Modelos ---\n",
      "\n",
      "--- Random Forest Reporte de Clasificación ---\n",
      "              precision    recall  f1-score   support\n",
      "\n",
      "        High       0.96      0.93      0.94       474\n",
      "         Low       0.98      0.89      0.93       348\n",
      "      Medium       0.94      0.98      0.96      1178\n",
      "\n",
      "    accuracy                           0.95      2000\n",
      "   macro avg       0.96      0.93      0.95      2000\n",
      "weighted avg       0.95      0.95      0.95      2000\n",
      "\n",
      "F1-Macro Random Forest: 0.9454\n",
      "\n",
      "--- Regresión Logística Reporte de Clasificación ---\n",
      "              precision    recall  f1-score   support\n",
      "\n",
      "        High       0.94      0.90      0.92       474\n",
      "         Low       0.98      0.87      0.92       348\n",
      "      Medium       0.93      0.97      0.95      1178\n",
      "\n",
      "    accuracy                           0.94      2000\n",
      "   macro avg       0.95      0.92      0.93      2000\n",
      "weighted avg       0.94      0.94      0.94      2000\n",
      "\n",
      "F1-Macro Regresión Logística: 0.9309\n"
     ]
    }
   ],
   "source": [
    "# --- 4. Evaluación Individual de Modelos ---\n",
    "print(\"\\n--- Evaluación Individual de Modelos ---\")\n",
    "\n",
    "print(\"\\n--- Random Forest Reporte de Clasificación ---\")\n",
    "print(classification_report(y_test, y_pred_rf, target_names=target_names))\n",
    "print(f\"F1-Macro Random Forest: {f1_score(y_test, y_pred_rf, average='macro'):.4f}\")\n",
    "\n",
    "print(\"\\n--- Regresión Logística Reporte de Clasificación ---\")\n",
    "print(classification_report(y_test, y_pred_lr, target_names=target_names))\n",
    "print(f\"F1-Macro Regresión Logística: {f1_score(y_test, y_pred_lr, average='macro'):.4f}\")\n"
   ]
  },
  {
   "cell_type": "code",
   "execution_count": 8,
   "id": "1a609bc5",
   "metadata": {},
   "outputs": [
    {
     "name": "stdout",
     "output_type": "stream",
     "text": [
      "\n",
      "--- Análisis de Concordancia entre Modelos ---\n",
      "\n",
      "Matriz de Concordancia (RF vs LR):\n"
     ]
    },
    {
     "data": {
      "text/html": [
       "<div>\n",
       "<style scoped>\n",
       "    .dataframe tbody tr th:only-of-type {\n",
       "        vertical-align: middle;\n",
       "    }\n",
       "\n",
       "    .dataframe tbody tr th {\n",
       "        vertical-align: top;\n",
       "    }\n",
       "\n",
       "    .dataframe thead th {\n",
       "        text-align: right;\n",
       "    }\n",
       "</style>\n",
       "<table border=\"1\" class=\"dataframe\">\n",
       "  <thead>\n",
       "    <tr style=\"text-align: right;\">\n",
       "      <th>Predicción LR</th>\n",
       "      <th>0</th>\n",
       "      <th>1</th>\n",
       "      <th>2</th>\n",
       "    </tr>\n",
       "    <tr>\n",
       "      <th>Predicción RF</th>\n",
       "      <th></th>\n",
       "      <th></th>\n",
       "      <th></th>\n",
       "    </tr>\n",
       "  </thead>\n",
       "  <tbody>\n",
       "    <tr>\n",
       "      <th>0</th>\n",
       "      <td>435</td>\n",
       "      <td>0</td>\n",
       "      <td>27</td>\n",
       "    </tr>\n",
       "    <tr>\n",
       "      <th>1</th>\n",
       "      <td>0</td>\n",
       "      <td>293</td>\n",
       "      <td>22</td>\n",
       "    </tr>\n",
       "    <tr>\n",
       "      <th>2</th>\n",
       "      <td>21</td>\n",
       "      <td>15</td>\n",
       "      <td>1187</td>\n",
       "    </tr>\n",
       "  </tbody>\n",
       "</table>\n",
       "</div>"
      ],
      "text/plain": [
       "Predicción LR    0    1     2\n",
       "Predicción RF                \n",
       "0              435    0    27\n",
       "1                0  293    22\n",
       "2               21   15  1187"
      ]
     },
     "metadata": {},
     "output_type": "display_data"
    }
   ],
   "source": [
    "print(\"\\n--- Análisis de Concordancia entre Modelos ---\")\n",
    "\n",
    "# Es una matriz que muestra cuántas veces ambos modelos predijeron lo mismo (acuerdo)\n",
    "# y cuántas veces sus predicciones difirieron para cada clase.\n",
    "concordance_matrix = pd.crosstab(\n",
    "    pd.Series(y_pred_rf, name='Predicción RF'),\n",
    "    pd.Series(y_pred_lr, name='Predicción LR')\n",
    ")\n",
    "print(\"\\nMatriz de Concordancia (RF vs LR):\")\n",
    "display(concordance_matrix)\n"
   ]
  },
  {
   "cell_type": "code",
   "execution_count": 9,
   "id": "54253e5d",
   "metadata": {},
   "outputs": [
    {
     "name": "stdout",
     "output_type": "stream",
     "text": [
      "\n",
      "Kappa de Cohen (Acuerdo entre RF y LR): 0.9220\n"
     ]
    }
   ],
   "source": [
    "# Mide el acuerdo entre dos evaluadores (en este caso, dos modelos) más allá del azar.\n",
    "# Valores: <0.20 (acuerdo pobre), 0.21-0.40 (aceptable), 0.41-0.60 (moderado),\n",
    "# 0.61-0.80 (sustancial), 0.81-1.00 (casi perfecto).\n",
    "kappa_rf_lr = cohen_kappa_score(y_pred_rf, y_pred_lr)\n",
    "print(f\"\\nKappa de Cohen (Acuerdo entre RF y LR): {kappa_rf_lr:.4f}\")"
   ]
  },
  {
   "cell_type": "code",
   "execution_count": 10,
   "id": "2a1b6ceb",
   "metadata": {},
   "outputs": [
    {
     "name": "stdout",
     "output_type": "stream",
     "text": [
      "Índice de Jaccard (Acuerdo entre RF y LR): 0.9072\n"
     ]
    }
   ],
   "source": [
    "# Mide la similitud entre los conjuntos de predicciones. Útil si las predicciones se pueden ver como conjuntos.\n",
    "# Por ejemplo, si se predice un 'riesgo alto' o no.\n",
    "# Para clasificación multiclase, se puede calcular por clase o promediar.\n",
    "# Aquí, lo calculamos para el acuerdo total entre las predicciones.\n",
    "jaccard = jaccard_score(y_pred_rf, y_pred_lr, average='macro') # promedio multiclase\n",
    "print(f\"Índice de Jaccard (Acuerdo entre RF y LR): {jaccard:.4f}\")"
   ]
  },
  {
   "cell_type": "code",
   "execution_count": 13,
   "id": "22dc6af7",
   "metadata": {},
   "outputs": [
    {
     "name": "stdout",
     "output_type": "stream",
     "text": [
      "\n",
      "Número de instancias donde RF y LR no están de acuerdo: 85 de 2000\n",
      "\n",
      "Ejemplos de desacuerdos:\n"
     ]
    },
    {
     "data": {
      "text/html": [
       "<div>\n",
       "<style scoped>\n",
       "    .dataframe tbody tr th:only-of-type {\n",
       "        vertical-align: middle;\n",
       "    }\n",
       "\n",
       "    .dataframe tbody tr th {\n",
       "        vertical-align: top;\n",
       "    }\n",
       "\n",
       "    .dataframe thead th {\n",
       "        text-align: right;\n",
       "    }\n",
       "</style>\n",
       "<table border=\"1\" class=\"dataframe\">\n",
       "  <thead>\n",
       "    <tr style=\"text-align: right;\">\n",
       "      <th></th>\n",
       "      <th>Real</th>\n",
       "      <th>Predicción RF</th>\n",
       "      <th>Predicción LR</th>\n",
       "      <th>Real_Decoded</th>\n",
       "      <th>Predicción RF_Decoded</th>\n",
       "      <th>Predicción LR_Decoded</th>\n",
       "    </tr>\n",
       "  </thead>\n",
       "  <tbody>\n",
       "    <tr>\n",
       "      <th>0</th>\n",
       "      <td>0</td>\n",
       "      <td>0</td>\n",
       "      <td>2</td>\n",
       "      <td>High</td>\n",
       "      <td>High</td>\n",
       "      <td>Medium</td>\n",
       "    </tr>\n",
       "    <tr>\n",
       "      <th>1</th>\n",
       "      <td>2</td>\n",
       "      <td>2</td>\n",
       "      <td>0</td>\n",
       "      <td>Medium</td>\n",
       "      <td>Medium</td>\n",
       "      <td>High</td>\n",
       "    </tr>\n",
       "    <tr>\n",
       "      <th>2</th>\n",
       "      <td>1</td>\n",
       "      <td>2</td>\n",
       "      <td>1</td>\n",
       "      <td>Low</td>\n",
       "      <td>Medium</td>\n",
       "      <td>Low</td>\n",
       "    </tr>\n",
       "    <tr>\n",
       "      <th>3</th>\n",
       "      <td>2</td>\n",
       "      <td>2</td>\n",
       "      <td>0</td>\n",
       "      <td>Medium</td>\n",
       "      <td>Medium</td>\n",
       "      <td>High</td>\n",
       "    </tr>\n",
       "    <tr>\n",
       "      <th>4</th>\n",
       "      <td>0</td>\n",
       "      <td>0</td>\n",
       "      <td>2</td>\n",
       "      <td>High</td>\n",
       "      <td>High</td>\n",
       "      <td>Medium</td>\n",
       "    </tr>\n",
       "    <tr>\n",
       "      <th>5</th>\n",
       "      <td>2</td>\n",
       "      <td>2</td>\n",
       "      <td>0</td>\n",
       "      <td>Medium</td>\n",
       "      <td>Medium</td>\n",
       "      <td>High</td>\n",
       "    </tr>\n",
       "    <tr>\n",
       "      <th>6</th>\n",
       "      <td>0</td>\n",
       "      <td>0</td>\n",
       "      <td>2</td>\n",
       "      <td>High</td>\n",
       "      <td>High</td>\n",
       "      <td>Medium</td>\n",
       "    </tr>\n",
       "    <tr>\n",
       "      <th>7</th>\n",
       "      <td>2</td>\n",
       "      <td>2</td>\n",
       "      <td>0</td>\n",
       "      <td>Medium</td>\n",
       "      <td>Medium</td>\n",
       "      <td>High</td>\n",
       "    </tr>\n",
       "    <tr>\n",
       "      <th>8</th>\n",
       "      <td>1</td>\n",
       "      <td>1</td>\n",
       "      <td>2</td>\n",
       "      <td>Low</td>\n",
       "      <td>Low</td>\n",
       "      <td>Medium</td>\n",
       "    </tr>\n",
       "    <tr>\n",
       "      <th>9</th>\n",
       "      <td>1</td>\n",
       "      <td>1</td>\n",
       "      <td>2</td>\n",
       "      <td>Low</td>\n",
       "      <td>Low</td>\n",
       "      <td>Medium</td>\n",
       "    </tr>\n",
       "  </tbody>\n",
       "</table>\n",
       "</div>"
      ],
      "text/plain": [
       "   Real  Predicción RF  Predicción LR Real_Decoded Predicción RF_Decoded  \\\n",
       "0     0              0              2         High                  High   \n",
       "1     2              2              0       Medium                Medium   \n",
       "2     1              2              1          Low                Medium   \n",
       "3     2              2              0       Medium                Medium   \n",
       "4     0              0              2         High                  High   \n",
       "5     2              2              0       Medium                Medium   \n",
       "6     0              0              2         High                  High   \n",
       "7     2              2              0       Medium                Medium   \n",
       "8     1              1              2          Low                   Low   \n",
       "9     1              1              2          Low                   Low   \n",
       "\n",
       "  Predicción LR_Decoded  \n",
       "0                Medium  \n",
       "1                  High  \n",
       "2                   Low  \n",
       "3                  High  \n",
       "4                Medium  \n",
       "5                  High  \n",
       "6                Medium  \n",
       "7                  High  \n",
       "8                Medium  \n",
       "9                Medium  "
      ]
     },
     "metadata": {},
     "output_type": "display_data"
    }
   ],
   "source": [
    "# Puedes identificar las instancias donde los modelos no están de acuerdo.\n",
    "disagreements_idx = np.where(y_pred_rf != y_pred_lr)[0]\n",
    "print(f\"\\nNúmero de instancias donde RF y LR no están de acuerdo: {len(disagreements_idx)} de {len(y_test)}\")\n",
    "if len(disagreements_idx) > 0:\n",
    "    print(\"\\nEjemplos de desacuerdos:\")\n",
    "    disagreements_df = pd.DataFrame({\n",
    "        'Real': y_test[disagreements_idx],\n",
    "        'Predicción RF': y_pred_rf[disagreements_idx],\n",
    "        'Predicción LR': y_pred_lr[disagreements_idx]\n",
    "    })\n",
    "    # Opcional: Decodificar las etiquetas para que sean legibles si usaste LabelEncoder\n",
    "    disagreements_df['Real_Decoded'] = le_target.inverse_transform(disagreements_df['Real'])\n",
    "    disagreements_df['Predicción RF_Decoded'] = le_target.inverse_transform(disagreements_df['Predicción RF'])\n",
    "    disagreements_df['Predicción LR_Decoded'] = le_target.inverse_transform(disagreements_df['Predicción LR'])\n",
    "\n",
    "    display(disagreements_df.head(10)) # Muestra las primeras 10 instancias de desacuerdo\n"
   ]
  },
  {
   "cell_type": "code",
   "execution_count": 14,
   "id": "08010612",
   "metadata": {},
   "outputs": [
    {
     "data": {
      "image/png": "[encoded data removed]",
      "text/plain": [
       "<Figure size 1500x600 with 4 Axes>"
      ]
     },
     "metadata": {},
     "output_type": "display_data"
    }
   ],
   "source": [
    "# Puedes visualizar dónde se producen los desacuerdos en la matriz de confusión\n",
    "# por modelo, o incluso una matriz que combine los errores de ambos.\n",
    "\n",
    "fig, axes = plt.subplots(1, 2, figsize=(15, 6))\n",
    "\n",
    "# Matriz de confusión para Random Forest\n",
    "sns.heatmap(confusion_matrix(y_test, y_pred_rf), annot=True, fmt='d', cmap='Blues', ax=axes[0],\n",
    "            xticklabels=target_names, yticklabels=target_names)\n",
    "axes[0].set_title('Matriz de Confusión - Random Forest')\n",
    "axes[0].set_xlabel('Predicho')\n",
    "axes[0].set_ylabel('Real')\n",
    "\n",
    "# Matriz de confusión para Regresión Logística\n",
    "sns.heatmap(confusion_matrix(y_test, y_pred_lr), annot=True, fmt='d', cmap='Blues', ax=axes[1],\n",
    "            xticklabels=target_names, yticklabels=target_names)\n",
    "axes[1].set_title('Matriz de Confusión - Regresión Logística')\n",
    "axes[1].set_xlabel('Predicho')\n",
    "axes[1].set_ylabel('Real')\n",
    "\n",
    "plt.tight_layout()\n",
    "plt.show()"
   ]
  },
  {
   "cell_type": "code",
   "execution_count": 16,
   "id": "950e2621",
   "metadata": {},
   "outputs": [
    {
     "name": "stdout",
     "output_type": "stream",
     "text": [
      "\n",
      "--- Análisis Detallado de Errores ---\n",
      "Total de instancias en el conjunto de prueba: 2000\n",
      "\n",
      "Errores de **Random Forest (RF)**:\n",
      "  - Número de instancias: 97\n",
      "  - Porcentaje del total de prueba: 4.85%\n",
      "\n",
      "Errores de **Regresión Logística (LR)**:\n",
      "  - Número de instancias: 124\n",
      "  - Porcentaje del total de prueba: 6.20%\n",
      "\n",
      "**Errores Comunes** (ambos modelos fallan en la misma instancia):\n",
      "  - Número de instancias: 68\n",
      "  - Porcentaje del total de prueba: 3.40%\n",
      "  - Porcentaje de los errores de RF: 70.10%\n",
      "  - Porcentaje de los errores de LR: 54.84%\n",
      "\n",
      "**Errores solo de RF** (LR acierta donde RF falla):\n",
      "  - Número de instancias: 29\n",
      "  - Porcentaje del total de prueba: 1.45%\n",
      "  - Porcentaje de los errores de RF: 29.90%\n",
      "\n",
      "**Errores solo de LR** (RF acierta donde LR falla):\n",
      "  - Número de instancias: 56\n",
      "  - Porcentaje del total de prueba: 2.80%\n",
      "  - Porcentaje de los errores de LR: 45.16%\n",
      "\n",
      "Suma de errores únicos (RF + LR) + comunes: 153\n",
      "Unión de los errores de RF y LR (total de instancias donde al menos un modelo falló): 153\n"
     ]
    }
   ],
   "source": [
    "\n",
    "\n",
    "\n",
    "\n",
    "# Identificar los índices de los errores\n",
    "errors_rf_idx = np.where(y_pred_rf != y_test)[0]\n",
    "errors_lr_idx = np.where(y_pred_lr != y_test)[0]\n",
    "\n",
    "# Calcular el número total de instancias en el conjunto de prueba\n",
    "total_test_instances = len(y_test) # O len(X_test) si lo prefieres, debería ser lo mismo\n",
    "\n",
    "# Número de errores únicos por modelo\n",
    "num_errors_rf = len(errors_rf_idx)\n",
    "num_errors_lr = len(errors_lr_idx)\n",
    "\n",
    "# Errores comunes (ambos modelos fallan en la misma instancia)\n",
    "common_errors_idx = np.intersect1d(errors_rf_idx, errors_lr_idx)\n",
    "num_common_errors = len(common_errors_idx)\n",
    "\n",
    "# Errores específicos de RF (LR acierta donde RF falla)\n",
    "rf_only_errors_idx = np.setdiff1d(errors_rf_idx, errors_lr_idx)\n",
    "num_rf_only_errors = len(rf_only_errors_idx)\n",
    "\n",
    "# Errores específicos de LR (RF acierta donde LR falla)\n",
    "lr_only_errors_idx = np.setdiff1d(errors_lr_idx, errors_rf_idx)\n",
    "num_lr_only_errors = len(lr_only_errors_idx)\n",
    "\n",
    "\n",
    "# --- Imprimir Resultados en Número y Porcentaje ---\n",
    "print(\"\\n--- Análisis Detallado de Errores ---\")\n",
    "print(f\"Total de instancias en el conjunto de prueba: {total_test_instances}\")\n",
    "\n",
    "print(f\"\\nErrores de **Random Forest (RF)**:\")\n",
    "print(f\"  - Número de instancias: {num_errors_rf}\")\n",
    "print(f\"  - Porcentaje del total de prueba: {num_errors_rf / total_test_instances:.2%}\")\n",
    "\n",
    "print(f\"\\nErrores de **Regresión Logística (LR)**:\")\n",
    "print(f\"  - Número de instancias: {num_errors_lr}\")\n",
    "print(f\"  - Porcentaje del total de prueba: {num_errors_lr / total_test_instances:.2%}\")\n",
    "\n",
    "print(f\"\\n**Errores Comunes** (ambos modelos fallan en la misma instancia):\")\n",
    "print(f\"  - Número de instancias: {num_common_errors}\")\n",
    "print(f\"  - Porcentaje del total de prueba: {num_common_errors / total_test_instances:.2%}\")\n",
    "print(f\"  - Porcentaje de los errores de RF: {num_common_errors / num_errors_rf:.2%}\" if num_errors_rf > 0 else \"N/A\")\n",
    "print(f\"  - Porcentaje de los errores de LR: {num_common_errors / num_errors_lr:.2%}\" if num_errors_lr > 0 else \"N/A\")\n",
    "\n",
    "\n",
    "print(f\"\\n**Errores solo de RF** (LR acierta donde RF falla):\")\n",
    "print(f\"  - Número de instancias: {num_rf_only_errors}\")\n",
    "print(f\"  - Porcentaje del total de prueba: {num_rf_only_errors / total_test_instances:.2%}\")\n",
    "print(f\"  - Porcentaje de los errores de RF: {num_rf_only_errors / num_errors_rf:.2%}\" if num_errors_rf > 0 else \"N/A\")\n",
    "\n",
    "print(f\"\\n**Errores solo de LR** (RF acierta donde LR falla):\")\n",
    "print(f\"  - Número de instancias: {num_lr_only_errors}\")\n",
    "print(f\"  - Porcentaje del total de prueba: {num_lr_only_errors / total_test_instances:.2%}\")\n",
    "print(f\"  - Porcentaje de los errores de LR: {num_lr_only_errors / num_errors_lr:.2%}\" if num_errors_lr > 0 else \"N/A\")\n",
    "\n",
    "# Opcional: Verificación de la suma de errores únicos y comunes\n",
    "# La suma de errores solo de RF, errores solo de LR y errores comunes\n",
    "# debería ser igual a la unión de los errores de RF y LR.\n",
    "total_unique_errors_union = num_rf_only_errors + num_lr_only_errors + num_common_errors\n",
    "print(f\"\\nSuma de errores únicos (RF + LR) + comunes: {total_unique_errors_union}\")\n",
    "print(f\"Unión de los errores de RF y LR (total de instancias donde al menos un modelo falló): {len(np.union1d(errors_rf_idx, errors_lr_idx))}\")"
   ]
  }
 ],
 "metadata": {
  "kernelspec": {
   "display_name": "venv",
   "language": "python",
   "name": "python3"
  },
  "language_info": {
   "codemirror_mode": {
    "name": "ipython",
    "version": 3
   },
   "file_extension": ".py",
   "mimetype": "text/x-python",
   "name": "python",
   "nbconvert_exporter": "python",
   "pygments_lexer": "ipython3",
   "version": "3.13.3"
  }
 },
 "nbformat": 4,
 "nbformat_minor": 5
}
